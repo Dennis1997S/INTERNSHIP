{
 "cells": [
  {
   "cell_type": "code",
   "execution_count": 1,
   "id": "315ffef6",
   "metadata": {},
   "outputs": [
    {
     "data": {
      "text/plain": [
       "0"
      ]
     },
     "execution_count": 1,
     "metadata": {},
     "output_type": "execute_result"
    }
   ],
   "source": [
    "2//3"
   ]
  },
  {
   "cell_type": "code",
   "execution_count": 2,
   "id": "5b5cb832",
   "metadata": {},
   "outputs": [
    {
     "data": {
      "text/plain": [
       "24"
      ]
     },
     "execution_count": 2,
     "metadata": {},
     "output_type": "execute_result"
    }
   ],
   "source": [
    "6<<2"
   ]
  },
  {
   "cell_type": "code",
   "execution_count": 3,
   "id": "dc529bc8",
   "metadata": {},
   "outputs": [
    {
     "data": {
      "text/plain": [
       "2"
      ]
     },
     "execution_count": 3,
     "metadata": {},
     "output_type": "execute_result"
    }
   ],
   "source": [
    "6&2"
   ]
  },
  {
   "cell_type": "code",
   "execution_count": 4,
   "id": "db384b24",
   "metadata": {},
   "outputs": [
    {
     "data": {
      "text/plain": [
       "6"
      ]
     },
     "execution_count": 4,
     "metadata": {},
     "output_type": "execute_result"
    }
   ],
   "source": [
    "6|2"
   ]
  },
  {
   "cell_type": "markdown",
   "id": "07005de8",
   "metadata": {},
   "source": [
    "# 11th answer"
   ]
  },
  {
   "cell_type": "code",
   "execution_count": 5,
   "id": "f1ca1593",
   "metadata": {},
   "outputs": [
    {
     "name": "stdout",
     "output_type": "stream",
     "text": [
      "Enter a number x: 6\n",
      "The factorial of 6 is 720\n"
     ]
    }
   ],
   "source": [
    "x = int(input(\"Enter a number x: \"))\n",
    "factorial = 1\n",
    "if x < 0:\n",
    "    print(\" Factorial does not exist for negative numbers\")\n",
    "elif x == 0:\n",
    "    print(\"The factorial of 0 is 1\")\n",
    "else:\n",
    "    for i in range(1,x + 1):\n",
    "        factorial = factorial*i\n",
    "    print(\"The factorial of\",x,\"is\",factorial)"
   ]
  },
  {
   "cell_type": "markdown",
   "id": "fd2ff8b0",
   "metadata": {},
   "source": [
    "# 12th answer"
   ]
  },
  {
   "cell_type": "code",
   "execution_count": 6,
   "id": "b340944b",
   "metadata": {},
   "outputs": [
    {
     "name": "stdout",
     "output_type": "stream",
     "text": [
      "2 number is prime but not composite number\n",
      "3 number is prime but not composite number\n",
      "4 is not prime but composite number\n",
      "5 number is prime but not composite number\n",
      "6 is not prime but composite number\n",
      "7 number is prime but not composite number\n",
      "8 is not prime but composite number\n",
      "9 is not prime but composite number\n"
     ]
    }
   ],
   "source": [
    "for n in range(2,10):\n",
    "    for x in range (2,n):\n",
    "        if n%x==0:\n",
    "            print(n,\"is not prime but composite number\")\n",
    "            break\n",
    "    else:\n",
    "        print(n,\"number is prime but not composite number\")"
   ]
  },
  {
   "cell_type": "markdown",
   "id": "57d9ac6d",
   "metadata": {},
   "source": [
    "# 13th answer "
   ]
  },
  {
   "cell_type": "code",
   "execution_count": 7,
   "id": "2bd1b9ba",
   "metadata": {},
   "outputs": [
    {
     "name": "stdout",
     "output_type": "stream",
     "text": [
      "Please enter your own Text : level\n",
      "Reverse Order :  level\n",
      "This is a Palindrome String\n"
     ]
    }
   ],
   "source": [
    "string = input(\"Please enter your own Text : \")\n",
    "str1 = \"\"\n",
    "\n",
    "for i in string:\n",
    "    str1 = i + str1\n",
    "print(\"Reverse Order : \", str1)\n",
    "\n",
    "if(string == str1):\n",
    "    print(\"This is a Palindrome String\")\n",
    "else:\n",
    "    print(\"This is Not\")"
   ]
  },
  {
   "cell_type": "markdown",
   "id": "5b681a1e",
   "metadata": {},
   "source": [
    "# 14th answer"
   ]
  },
  {
   "cell_type": "code",
   "execution_count": 8,
   "id": "c3ac2bbe",
   "metadata": {},
   "outputs": [
    {
     "name": "stdout",
     "output_type": "stream",
     "text": [
      "Enter base: 12\n",
      "Enter height: 12\n",
      "Enter angle: 100\n",
      "Hypotenuse = 16.97056274847714\n"
     ]
    }
   ],
   "source": [
    "import math\n",
    "\n",
    "\n",
    "\n",
    "a = float(input(\"Enter base: \"))\n",
    "b = float(input(\"Enter height: \"))\n",
    "x = float(input(\"Enter angle: \"))\n",
    "\n",
    "\n",
    "\n",
    "c = math.sqrt(a ** 2 + b ** 2)\n",
    "\n",
    "\n",
    "\n",
    "print(\"Hypotenuse =\", c)"
   ]
  },
  {
   "cell_type": "markdown",
   "id": "ac94a34d",
   "metadata": {},
   "source": [
    "# 15th answer"
   ]
  },
  {
   "cell_type": "code",
   "execution_count": 9,
   "id": "9544d43c",
   "metadata": {},
   "outputs": [
    {
     "name": "stdout",
     "output_type": "stream",
     "text": [
      "Enter the string: mango\n",
      "Please enter the char to find frequency of ta character\n",
      "n\n",
      "The frequency of the  n in the string is:  1\n"
     ]
    }
   ],
   "source": [
    "string=input(\"Enter the string: \")\n",
    "\n",
    "char=input(\"Please enter the char to find frequency of ta character\\n\")\n",
    "\n",
    "count=0\n",
    "\n",
    "for i in range(len(string)):\n",
    "\n",
    "    if(string[i]==char):\n",
    "\n",
    "        count=count+1\n",
    "\n",
    "print(\"The frequency of the \",char,\"in the string is: \",count)"
   ]
  },
  {
   "cell_type": "code",
   "execution_count": null,
   "id": "3aa7f676",
   "metadata": {},
   "outputs": [],
   "source": []
  }
 ],
 "metadata": {
  "kernelspec": {
   "display_name": "Python 3 (ipykernel)",
   "language": "python",
   "name": "python3"
  },
  "language_info": {
   "codemirror_mode": {
    "name": "ipython",
    "version": 3
   },
   "file_extension": ".py",
   "mimetype": "text/x-python",
   "name": "python",
   "nbconvert_exporter": "python",
   "pygments_lexer": "ipython3",
   "version": "3.9.7"
  }
 },
 "nbformat": 4,
 "nbformat_minor": 5
}
